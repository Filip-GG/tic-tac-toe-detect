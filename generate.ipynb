{
 "cells": [
  {
   "cell_type": "markdown",
   "id": "f245f174",
   "metadata": {},
   "source": [
    "Данный код генерирует датасет для обучения"
   ]
  },
  {
   "cell_type": "code",
   "execution_count": 2,
   "id": "db3f28d9",
   "metadata": {},
   "outputs": [],
   "source": [
    "from PIL import Image\n",
    "import glob"
   ]
  },
  {
   "cell_type": "markdown",
   "id": "2e77cc3c",
   "metadata": {},
   "source": [
    "Перевод всего к 1 стандарту"
   ]
  },
  {
   "cell_type": "code",
   "execution_count": 5,
   "id": "0640941a",
   "metadata": {},
   "outputs": [],
   "source": [
    "for indx, filename in enumerate(glob.glob('dataset/background_stat/*')):\n",
    "    im = Image.open(filename)\n",
    "    im.save(f\"dataset/background/{indx}.png\")"
   ]
  },
  {
   "cell_type": "markdown",
   "id": "79b175ff",
   "metadata": {},
   "source": [
    "Генерирукем датасет"
   ]
  },
  {
   "cell_type": "code",
   "execution_count": 50,
   "id": "b881bff1",
   "metadata": {},
   "outputs": [],
   "source": [
    "import numpy as np\n",
    "import pandas as pd\n",
    "sample = Image.open('sample.png').convert('L')\n",
    "mask_sample = Image.fromarray(np.uint8(np.ones(sample.size))*255).transpose(Image.ROTATE_90)"
   ]
  },
  {
   "cell_type": "code",
   "execution_count": 57,
   "id": "849bd3f8",
   "metadata": {},
   "outputs": [],
   "source": [
    "log = {\n",
    "    'fields':[],\n",
    "    'name':[],\n",
    "    'numOfObj':[],\n",
    "    'dots':[]    \n",
    "}\n",
    "\n",
    "for indx, filename in enumerate(glob.glob('dataset/background/*')):\n",
    "    log['fields'].append(indx)\n",
    "    log['name'].append(filename)\n",
    "    img = Image.open(filename).convert('L')\n",
    "    size = img.size\n",
    "    mask = Image.fromarray(np.uint8(np.zeros(size))*255).transpose(Image.ROTATE_90)\n",
    "    \n",
    "    numObj = np.random.randint(1, 6)\n",
    "    log['numOfObj'].append(numObj)\n",
    "    log['dots'].append([])\n",
    "    for obj in range(numObj):\n",
    "        reduce = np.random.randint(10, 100)\n",
    "        alpha = np.random.randint(0, 90)\n",
    "        point = (np.random.randint(0, size[0]), np.random.randint(0, size[1]))\n",
    "        log['dots'][indx].append(point)\n",
    "\n",
    "        sample_item = sample.reduce(reduce).rotate(alpha, expand=True)\n",
    "        mask_sample_item = mask_sample.reduce(reduce).rotate(alpha, expand=True)\n",
    "\n",
    "        img.paste(sample_item, point, mask_sample_item)\n",
    "        mask.paste(mask_sample_item, point, mask_sample_item)\n",
    "\n",
    "    img.save(f'dataset/img/{indx}.png')\n",
    "    mask.save(f'dataset/mask/{indx}.png')"
   ]
  },
  {
   "cell_type": "code",
   "execution_count": 62,
   "id": "7e8a6050",
   "metadata": {},
   "outputs": [],
   "source": [
    "logs = pd.DataFrame(log)\n",
    "logs.to_csv('train.csv', index=False)"
   ]
  },
  {
   "cell_type": "code",
   "execution_count": 63,
   "id": "112e818b",
   "metadata": {},
   "outputs": [
    {
     "data": {
      "text/plain": [
       "3.0095652173913043"
      ]
     },
     "execution_count": 63,
     "metadata": {},
     "output_type": "execute_result"
    }
   ],
   "source": [
    "np.mean(logs['numOfObj'])"
   ]
  },
  {
   "cell_type": "code",
   "execution_count": null,
   "id": "3f34e209",
   "metadata": {},
   "outputs": [],
   "source": []
  }
 ],
 "metadata": {
  "kernelspec": {
   "display_name": "pythorch",
   "language": "python",
   "name": "python3"
  },
  "language_info": {
   "codemirror_mode": {
    "name": "ipython",
    "version": 3
   },
   "file_extension": ".py",
   "mimetype": "text/x-python",
   "name": "python",
   "nbconvert_exporter": "python",
   "pygments_lexer": "ipython3",
   "version": "3.12.2"
  }
 },
 "nbformat": 4,
 "nbformat_minor": 5
}
